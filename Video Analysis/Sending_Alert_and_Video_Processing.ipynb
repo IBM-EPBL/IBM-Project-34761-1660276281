{
 "cells": [
  {
   "cell_type": "code",
   "execution_count": 1,
   "metadata": {
    "colab": {
     "base_uri": "https://localhost:8080/"
    },
    "id": "s_Z_CoC7Qy42",
    "outputId": "e15c771e-fa27-42a5-f693-167ad04371b0"
   },
   "outputs": [
    {
     "name": "stdout",
     "output_type": "stream",
     "text": [
      "Collecting twilio\n",
      "  Downloading twilio-7.15.3-py2.py3-none-any.whl (1.4 MB)\n",
      "Requirement already satisfied: requests>=2.0.0 in c:\\users\\shruti\\anaconda3\\lib\\site-packages (from twilio) (2.25.1)\n",
      "Requirement already satisfied: pytz in c:\\users\\shruti\\anaconda3\\lib\\site-packages (from twilio) (2021.1)\n",
      "Collecting PyJWT<3.0.0,>=2.0.0\n",
      "  Downloading PyJWT-2.6.0-py3-none-any.whl (20 kB)\n",
      "Requirement already satisfied: urllib3<1.27,>=1.21.1 in c:\\users\\shruti\\anaconda3\\lib\\site-packages (from requests>=2.0.0->twilio) (1.26.3)\n",
      "Requirement already satisfied: certifi>=2017.4.17 in c:\\users\\shruti\\anaconda3\\lib\\site-packages (from requests>=2.0.0->twilio) (2021.10.8)\n",
      "Requirement already satisfied: idna<3,>=2.5 in c:\\users\\shruti\\anaconda3\\lib\\site-packages (from requests>=2.0.0->twilio) (2.10)\n",
      "Requirement already satisfied: chardet<5,>=3.0.2 in c:\\users\\shruti\\anaconda3\\lib\\site-packages (from requests>=2.0.0->twilio) (4.0.0)\n",
      "Installing collected packages: PyJWT, twilio\n",
      "Successfully installed PyJWT-2.6.0 twilio-7.15.3\n",
      "Note: you may need to restart the kernel to use updated packages.\n"
     ]
    }
   ],
   "source": [
    "pip install twilio"
   ]
  },
  {
   "cell_type": "code",
   "execution_count": 3,
   "metadata": {
    "colab": {
     "base_uri": "https://localhost:8080/"
    },
    "id": "OSrSvHRzQ-Ga",
    "outputId": "0e66427d-aec1-4cb9-eb12-6f68a6d205eb"
   },
   "outputs": [
    {
     "name": "stdout",
     "output_type": "stream",
     "text": [
      "Requirement already satisfied: playsound in c:\\users\\shruti\\anaconda3\\lib\\site-packages (1.3.0)\n",
      "Note: you may need to restart the kernel to use updated packages.\n"
     ]
    }
   ],
   "source": [
    "pip install playsound"
   ]
  },
  {
   "cell_type": "code",
   "execution_count": 1,
   "metadata": {
    "id": "Kb6tHGOnP_il"
   },
   "outputs": [],
   "source": [
    "import cv2\n",
    "import numpy as np\n",
    "from PIL import Image\n",
    "from keras.models import load_model\n",
    "from twilio.rest import Client\n",
    "from playsound import playsound\n",
    "from tensorflow.keras.preprocessing import image\n",
    "import matplotlib.pyplot as plt\n",
    "from keras.preprocessing import image \n",
    "from datetime import timedelta\n",
    "import os"
   ]
  },
  {
   "cell_type": "code",
   "execution_count": 2,
   "metadata": {
    "id": "DQ5MLoB5QiqG"
   },
   "outputs": [],
   "source": [
    "model=load_model('./forests.h5')"
   ]
  },
  {
   "cell_type": "code",
   "execution_count": 3,
   "metadata": {},
   "outputs": [],
   "source": [
    "account_sid='AC33e4f23328753859047817ac8815083b'\n",
    "auth_token ='c0ddc5b5ba7ac492f064a3c2bf78615e'\n",
    "client=Client(account_sid,auth_token)"
   ]
  },
  {
   "cell_type": "code",
   "execution_count": 4,
   "metadata": {
    "id": "S-nQ0AIIi4eF"
   },
   "outputs": [],
   "source": [
    "def prediction(img_path):\n",
    "    i = cv2.imread(img_path)\n",
    "    i = cv2.cvtColor(i, cv2.COLOR_BGR2RGB)\n",
    "    img = Image.open(img_path)\n",
    "    img = img.resize((128,128))\n",
    "    x = image.img_to_array(img)\n",
    "    x = np.expand_dims(x,axis=0)\n",
    "    pred = model.predict(x)\n",
    "    plt.imshow(i)\n",
    "    if(pred==[[1.]]) :\n",
    "        message=client.messages \\\n",
    "        .create(\n",
    "          body='FOREST FIRE IS DECTECTED IN AREA,stay alert',\n",
    "          #use twilio free number\n",
    "          from_='+12535288281',\n",
    "          #to number\n",
    "          to='+918610505460')\n",
    "        print(message.sid)\n",
    "        msg='Fire Detected'\n",
    "\n",
    "    else:\n",
    "         msg= \"NO FIRE DETECTED\"\n",
    "    return msg"
   ]
  },
  {
   "cell_type": "code",
   "execution_count": 12,
   "metadata": {},
   "outputs": [
    {
     "data": {
      "text/plain": [
       "-1"
      ]
     },
     "execution_count": 12,
     "metadata": {},
     "output_type": "execute_result"
    }
   ],
   "source": [
    "vc = cv2.VideoCapture(0)\n",
    "rval, frame = vc.read()\n",
    "old_text = ''\n",
    "pred_text = ''\n",
    "count_frames = 0\n",
    "total_str = ''\n",
    "flag = False\n",
    "while True:\n",
    "    if frame is not None:  \n",
    "        frame = cv2.flip(frame, 1)\n",
    "        frame = cv2.resize( frame, (400,400) )\n",
    "        crop_img = frame[100:300, 100:300]\n",
    "        blackboard = np.zeros(frame.shape, dtype=np.uint8)\n",
    "        cv2.putText(blackboard, predict(frames), (30, 40), cv2.FONT_HERSHEY_TRIPLEX, 1, (255, 255, 0))\n",
    "        res = np.hstack((frame, blackboard))\n",
    "        \n",
    "        cv2.imshow(\"image\", res)\n",
    "        \n",
    "    rval, frame = vc.read()\n",
    "    keypress = cv2.waitKey(1)\n",
    "    if keypress == ord('c'):\n",
    "        flag = True\n",
    "    if keypress == ord('q'):\n",
    "        break\n",
    "\n",
    "vc.release()\n",
    "cv2.destroyAllWindows()\n",
    "cv2.waitKey(1)"
   ]
  }
 ],
 "metadata": {
  "colab": {
   "provenance": []
  },
  "kernelspec": {
   "display_name": "Python 3",
   "language": "python",
   "name": "python3"
  },
  "language_info": {
   "codemirror_mode": {
    "name": "ipython",
    "version": 3
   },
   "file_extension": ".py",
   "mimetype": "text/x-python",
   "name": "python",
   "nbconvert_exporter": "python",
   "pygments_lexer": "ipython3",
   "version": "3.8.5"
  }
 },
 "nbformat": 4,
 "nbformat_minor": 1
}
